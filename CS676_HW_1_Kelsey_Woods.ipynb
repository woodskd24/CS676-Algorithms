{
  "nbformat": 4,
  "nbformat_minor": 0,
  "metadata": {
    "colab": {
      "provenance": [],
      "authorship_tag": "ABX9TyNucgZw4GizXrq+9+p1nHNX",
      "include_colab_link": true
    },
    "kernelspec": {
      "name": "python3",
      "display_name": "Python 3"
    },
    "language_info": {
      "name": "python"
    }
  },
  "cells": [
    {
      "cell_type": "markdown",
      "metadata": {
        "id": "view-in-github",
        "colab_type": "text"
      },
      "source": [
        "<a href=\"https://colab.research.google.com/github/woodskd24/CS676-Algorithms/blob/main/CS676_HW_1_Kelsey_Woods.ipynb\" target=\"_parent\"><img src=\"https://colab.research.google.com/assets/colab-badge.svg\" alt=\"Open In Colab\"/></a>"
      ]
    },
    {
      "cell_type": "markdown",
      "source": [
        "##CS 676 Homework #1"
      ],
      "metadata": {
        "id": "L-XtMLzi5SP4"
      }
    },
    {
      "cell_type": "markdown",
      "source": [
        "By: Kelsey Woods"
      ],
      "metadata": {
        "id": "0HH9iG9V5XCw"
      }
    },
    {
      "cell_type": "code",
      "source": [
        "import statistics as stats\n",
        "import numpy as np\n",
        "from scipy.stats import gmean\n",
        "from statistics import harmonic_mean\n",
        "from statistics import mode\n",
        "import math\n",
        "from scipy.special import agm\n",
        "from statsmodels import robust\n",
        "import pandas as pd\n",
        "from numpy import absolute\n",
        "from scipy.stats import skew\n",
        "from scipy.stats import kurtosis\n",
        "from scipy import stats as st\n",
        "from scipy.stats import moment"
      ],
      "metadata": {
        "id": "6OSQ-jVJpmHA"
      },
      "execution_count": 161,
      "outputs": []
    },
    {
      "cell_type": "markdown",
      "source": [
        "##Q2.1"
      ],
      "metadata": {
        "id": "iJFkJZgn57KV"
      }
    },
    {
      "cell_type": "code",
      "source": [
        "X = {3, 1, 2, 3, 1, 4, 3, 3} \n",
        "Y = {1, 4, 3, 1, 1, 3}\n",
        "Z = {3, 3, 1, 4, 2, 1, 4, 2}"
      ],
      "metadata": {
        "id": "FA55CBmjLape"
      },
      "execution_count": 74,
      "outputs": []
    },
    {
      "cell_type": "code",
      "source": [
        "X1 = ([3, 1, 2, 3, 1, 4, 3, 3])\n",
        "Y1 = ([1, 4, 3, 1, 1, 3])\n",
        "Z1 = ([3, 3, 1, 4, 2, 1, 4, 2])"
      ],
      "metadata": {
        "id": "vOOZuNhRjo2k"
      },
      "execution_count": 89,
      "outputs": []
    },
    {
      "cell_type": "markdown",
      "source": [
        "a.) Write a code for the mean and find the following values:"
      ],
      "metadata": {
        "id": "ARrJuNL4OGKY"
      }
    },
    {
      "cell_type": "code",
      "source": [
        "def mean_val(a):\n",
        "    b = sum(a)/len(a)\n",
        "    return b\n",
        "print(mean_val(X))\n",
        "print(mean_val(Y))\n",
        "print(mean_val(Z))"
      ],
      "metadata": {
        "colab": {
          "base_uri": "https://localhost:8080/"
        },
        "id": "CYJz1m_MMG1t",
        "outputId": "7ce51892-ae90-4315-cfc9-86c5860a86e3"
      },
      "execution_count": 75,
      "outputs": [
        {
          "output_type": "stream",
          "name": "stdout",
          "text": [
            "2.5\n",
            "2.6666666666666665\n",
            "2.5\n"
          ]
        }
      ]
    },
    {
      "cell_type": "markdown",
      "source": [
        "b.) Write a code for the median and find the following values:"
      ],
      "metadata": {
        "id": "CmZvyD1POLjq"
      }
    },
    {
      "cell_type": "code",
      "source": [
        "def med_val(a):\n",
        "    b = stats.median(a)\n",
        "    return b\n",
        "print(med_val(X))\n",
        "print(med_val(Y))\n",
        "print(med_val(Z))"
      ],
      "metadata": {
        "colab": {
          "base_uri": "https://localhost:8080/"
        },
        "id": "CTl7PtAIOVSL",
        "outputId": "04c734b3-cad6-4dd7-c6ca-e393bf93878b"
      },
      "execution_count": 76,
      "outputs": [
        {
          "output_type": "stream",
          "name": "stdout",
          "text": [
            "2.5\n",
            "3\n",
            "2.5\n"
          ]
        }
      ]
    },
    {
      "cell_type": "markdown",
      "source": [
        "c.) Write a code for the mode and find the following values:"
      ],
      "metadata": {
        "id": "PHTqhSn7PL8N"
      }
    },
    {
      "cell_type": "code",
      "source": [
        "def mode_val(a):\n",
        "    b = mode(a)\n",
        "    return b\n",
        "print(mode_val(X))\n",
        "print(mode_val(Y))\n",
        "print(mode_val(Z))"
      ],
      "metadata": {
        "colab": {
          "base_uri": "https://localhost:8080/"
        },
        "id": "NBA6acsdPNng",
        "outputId": "de27b9d1-511c-406e-a389-65e440309937"
      },
      "execution_count": 109,
      "outputs": [
        {
          "output_type": "stream",
          "name": "stdout",
          "text": [
            "1\n",
            "1\n",
            "1\n"
          ]
        }
      ]
    },
    {
      "cell_type": "markdown",
      "source": [
        "d.) Write a geometric mean and find the following values:"
      ],
      "metadata": {
        "id": "mysZfoVtQEIH"
      }
    },
    {
      "cell_type": "code",
      "source": [
        "def g_mean(a):\n",
        "    a_new = [i for i in a if i != 0]\n",
        "    b = np.log(a_new)\n",
        "    return np.exp(b.mean())\n",
        "\n",
        "#calculate geometric mean\n",
        "print(g_mean(X))\n",
        "print(g_mean(Y))\n",
        "print(g_mean(Z))"
      ],
      "metadata": {
        "colab": {
          "base_uri": "https://localhost:8080/"
        },
        "id": "lqx-dmYpQKAt",
        "outputId": "4358869c-10f0-492c-9743-aa9aebf8a33c"
      },
      "execution_count": 78,
      "outputs": [
        {
          "output_type": "stream",
          "name": "stdout",
          "text": [
            "2.213363839400643\n",
            "2.2894284851066637\n",
            "2.213363839400643\n"
          ]
        }
      ]
    },
    {
      "cell_type": "markdown",
      "source": [
        "e.) Write a harmonic mean and find the following values:"
      ],
      "metadata": {
        "id": "4A8BNEY5SMSy"
      }
    },
    {
      "cell_type": "code",
      "source": [
        "def h_mean(a):\n",
        "    b = stats.harmonic_mean(a)\n",
        "    return b\n",
        "print(h_mean(X))\n",
        "print(h_mean(Y))\n",
        "print(h_mean(Z))"
      ],
      "metadata": {
        "colab": {
          "base_uri": "https://localhost:8080/"
        },
        "id": "tkDx_bweSKJj",
        "outputId": "7a6f2fe6-b03c-43ca-a260-21a9ef5e084e"
      },
      "execution_count": 79,
      "outputs": [
        {
          "output_type": "stream",
          "name": "stdout",
          "text": [
            "1.92\n",
            "1.8947368421052633\n",
            "1.92\n"
          ]
        }
      ]
    },
    {
      "cell_type": "markdown",
      "source": [
        "f.) Write a arithmetic-geometric mean and find the following values:"
      ],
      "metadata": {
        "id": "jshkDJAVVe-J"
      }
    },
    {
      "cell_type": "code",
      "source": [
        "def agmeans(a):\n",
        "    b = (g_mean(a)+stats.mean(a))/2\n",
        "    return b\n",
        "print(agmeans(X))\n",
        "print(agmeans(Y))\n",
        "print(agmeans(Z))"
      ],
      "metadata": {
        "colab": {
          "base_uri": "https://localhost:8080/"
        },
        "id": "VzKQkGAGZjsu",
        "outputId": "402a3db6-390a-460b-c93e-0f651602a475"
      },
      "execution_count": 80,
      "outputs": [
        {
          "output_type": "stream",
          "name": "stdout",
          "text": [
            "2.3566819197003213\n",
            "2.478047575886665\n",
            "2.3566819197003213\n"
          ]
        }
      ]
    },
    {
      "cell_type": "markdown",
      "source": [
        "g.) Write a arithmetic-harmonic-geometric mean and find the following values:"
      ],
      "metadata": {
        "id": "XSVi64obcYlI"
      }
    },
    {
      "cell_type": "code",
      "source": [
        "def aghmeans(a):\n",
        "    b = (g_mean(a)+stats.mean(a)+h_mean(a))/3\n",
        "    return b\n",
        "print(aghmeans(X))\n",
        "print(aghmeans(Y))\n",
        "print(aghmeans(Z))"
      ],
      "metadata": {
        "colab": {
          "base_uri": "https://localhost:8080/"
        },
        "id": "q68HLcnFcdhe",
        "outputId": "87fc1d39-460c-4006-c447-ec5a201d321c"
      },
      "execution_count": 81,
      "outputs": [
        {
          "output_type": "stream",
          "name": "stdout",
          "text": [
            "2.211121279800214\n",
            "2.2836106646261976\n",
            "2.211121279800214\n"
          ]
        }
      ]
    },
    {
      "cell_type": "markdown",
      "source": [
        "h.) Write a code for the variance and find the following values:"
      ],
      "metadata": {
        "id": "VWOYNX26cyEe"
      }
    },
    {
      "cell_type": "code",
      "source": [
        "def var(a):\n",
        "    b = stats.variance(a)\n",
        "    return b\n",
        "\n",
        "#Sample variance squared\n",
        "print(var(X))\n",
        "print(var(Y))\n",
        "print(var(Z))"
      ],
      "metadata": {
        "colab": {
          "base_uri": "https://localhost:8080/"
        },
        "id": "q3oy8Ii3c0HG",
        "outputId": "7d525b2d-cb96-4771-c6cc-f1432b312aa3"
      },
      "execution_count": 82,
      "outputs": [
        {
          "output_type": "stream",
          "name": "stdout",
          "text": [
            "1.6666666666666667\n",
            "2.3333333333333335\n",
            "1.6666666666666667\n"
          ]
        }
      ]
    },
    {
      "cell_type": "code",
      "source": [
        "def var(a):\n",
        "    b = stats.pvariance(a)\n",
        "    return b\n",
        "\n",
        "#Population variance squared\n",
        "print(var(X))\n",
        "print(var(Y))\n",
        "print(var(Z))"
      ],
      "metadata": {
        "colab": {
          "base_uri": "https://localhost:8080/"
        },
        "id": "zSAx8RVMf9J2",
        "outputId": "a7077357-9dfb-4ad0-ee70-37b8cb04f378"
      },
      "execution_count": 83,
      "outputs": [
        {
          "output_type": "stream",
          "name": "stdout",
          "text": [
            "1.25\n",
            "1.5555555555555556\n",
            "1.25\n"
          ]
        }
      ]
    },
    {
      "cell_type": "markdown",
      "source": [
        "i.) Write a code for the standard deviation and find the following values"
      ],
      "metadata": {
        "id": "k9FZ9NHMeoGV"
      }
    },
    {
      "cell_type": "code",
      "source": [
        "def var(a):\n",
        "    b = stats.stdev(a)\n",
        "    return b\n",
        "\n",
        "#Sample standard deviation\n",
        "print(var(X))\n",
        "print(var(Y))\n",
        "print(var(Z))"
      ],
      "metadata": {
        "colab": {
          "base_uri": "https://localhost:8080/"
        },
        "id": "JPgTN38adh6S",
        "outputId": "8cdab098-9b0f-4580-8da5-0db7a79938fe"
      },
      "execution_count": 84,
      "outputs": [
        {
          "output_type": "stream",
          "name": "stdout",
          "text": [
            "1.2909944487358056\n",
            "1.5275252316519468\n",
            "1.2909944487358056\n"
          ]
        }
      ]
    },
    {
      "cell_type": "code",
      "source": [
        "def var(a):\n",
        "    b = stats.pstdev(a)\n",
        "    return b\n",
        "\n",
        "#Population standard deviation\n",
        "print(var(X))\n",
        "print(var(Y))\n",
        "print(var(Z))"
      ],
      "metadata": {
        "colab": {
          "base_uri": "https://localhost:8080/"
        },
        "id": "meqvfUwigV6k",
        "outputId": "20778e5d-204e-4fc0-c14e-d4968dbcefa4"
      },
      "execution_count": 85,
      "outputs": [
        {
          "output_type": "stream",
          "name": "stdout",
          "text": [
            "1.118033988749895\n",
            "1.247219128924647\n",
            "1.118033988749895\n"
          ]
        }
      ]
    },
    {
      "cell_type": "markdown",
      "source": [
        "j.) Write a code for the MAD around mean, μ and find the following values"
      ],
      "metadata": {
        "id": "vRSwMBghggFR"
      }
    },
    {
      "cell_type": "code",
      "source": [
        "def MAD(a):\n",
        "  df = pd.DataFrame(a)\n",
        "  return df.mad()\n",
        "\n",
        "print(MAD(X))\n",
        "print(MAD(Y))\n",
        "print(MAD(Z))"
      ],
      "metadata": {
        "colab": {
          "base_uri": "https://localhost:8080/"
        },
        "id": "nhlPVnHogiCt",
        "outputId": "8c4aaf35-aa21-4caa-efd0-a3eafd37d86a"
      },
      "execution_count": 86,
      "outputs": [
        {
          "output_type": "stream",
          "name": "stdout",
          "text": [
            "0    1.0\n",
            "dtype: float64\n",
            "0    1.111111\n",
            "dtype: float64\n",
            "0    1.0\n",
            "dtype: float64\n"
          ]
        }
      ]
    },
    {
      "cell_type": "markdown",
      "source": [
        "k.) Write a code for the MAD around median, μi and find the following values"
      ],
      "metadata": {
        "id": "n-FbSZ7Cir-P"
      }
    },
    {
      "cell_type": "code",
      "source": [
        "def MADmed(a):\n",
        "  b = np.median(np.absolute(a - np.median(a)))\n",
        "  return b\n",
        "\n",
        "print(MADmed(X1))\n",
        "print(MADmed(Y1))\n",
        "print(MADmed(Z1))"
      ],
      "metadata": {
        "colab": {
          "base_uri": "https://localhost:8080/"
        },
        "id": "941Ph-XLitMV",
        "outputId": "e18ab428-77e7-4f97-b8ea-4f387334b936"
      },
      "execution_count": 90,
      "outputs": [
        {
          "output_type": "stream",
          "name": "stdout",
          "text": [
            "0.5\n",
            "1.0\n",
            "1.0\n"
          ]
        }
      ]
    },
    {
      "cell_type": "markdown",
      "source": [
        "l.)  Write a code for the MAD around mode, μo and find the following values:"
      ],
      "metadata": {
        "id": "n9G2U-fHj8wa"
      }
    },
    {
      "cell_type": "code",
      "source": [
        "def MADmode(a):\n",
        "  b = mode(a)\n",
        "  c = mode([abs(number-b) for number in a])\n",
        "  return b\n",
        "\n",
        "print(MADmode(X1))\n",
        "print(MADmode(Y1))\n",
        "print(MADmode(Z1))"
      ],
      "metadata": {
        "colab": {
          "base_uri": "https://localhost:8080/"
        },
        "id": "Edbsp_wgj7yL",
        "outputId": "99bfbcc5-e7b7-44fc-9e0e-238d2f3e499b"
      },
      "execution_count": 114,
      "outputs": [
        {
          "output_type": "stream",
          "name": "stdout",
          "text": [
            "3\n",
            "1\n",
            "3\n"
          ]
        }
      ]
    },
    {
      "cell_type": "markdown",
      "source": [
        "m.) Write a code for the generalized MPAD, the mean of pth power absolute deviation\n",
        "which takes p and center point as inputs: MPAD(X, p, μx). Find the following values"
      ],
      "metadata": {
        "id": "F3MdxQq1oO-2"
      }
    },
    {
      "cell_type": "code",
      "source": [
        "def mpad(a):\n",
        "  b = np.pad(a, (3, 2), 'constant', constant_values=(6, 4))\n",
        "  return b\n",
        "\n",
        "print(mpad(X))\n",
        "print(mpad(Y1))\n",
        "print(mpad(Z1))"
      ],
      "metadata": {
        "colab": {
          "base_uri": "https://localhost:8080/"
        },
        "id": "G7D_bl_DoVC8",
        "outputId": "ba1963b9-4331-45fd-8a11-e2564af4beed"
      },
      "execution_count": 119,
      "outputs": [
        {
          "output_type": "stream",
          "name": "stdout",
          "text": [
            "{1, 2, 3, 4}\n",
            "[6 6 6 1 4 3 1 1 3 4 4]\n",
            "[6 6 6 3 3 1 4 2 1 4 2 4 4]\n"
          ]
        }
      ]
    },
    {
      "cell_type": "markdown",
      "source": [
        "n.) Write a code for the interquartile range and find the following values"
      ],
      "metadata": {
        "id": "bwU3QqV-q1NY"
      }
    },
    {
      "cell_type": "code",
      "source": [
        "def IQR(a):\n",
        "  q3, q1 = np.percentile(a, [75 ,25])\n",
        "  iqr = q3 - q1\n",
        "\n",
        "print(IQR(X1))\n",
        "print(IQR(Y1))\n",
        "print(IQR(Z1))"
      ],
      "metadata": {
        "colab": {
          "base_uri": "https://localhost:8080/"
        },
        "id": "_azeZg36q0ui",
        "outputId": "0e902910-1c77-48e4-d1de-e59950edc5a6"
      },
      "execution_count": 120,
      "outputs": [
        {
          "output_type": "stream",
          "name": "stdout",
          "text": [
            "None\n",
            "None\n",
            "None\n"
          ]
        }
      ]
    },
    {
      "cell_type": "markdown",
      "source": [
        "o.) Write a code for the quartile based skewness and find the following values"
      ],
      "metadata": {
        "id": "mrOEXUoHrrLt"
      }
    },
    {
      "cell_type": "code",
      "source": [
        "def skews(a):\n",
        "  b = skew(a, axis=0, bias=True)\n",
        "  return b\n",
        "\n",
        "print(skews(X1))\n",
        "print(skews(Y1))\n",
        "print(skews(Z1))"
      ],
      "metadata": {
        "colab": {
          "base_uri": "https://localhost:8080/"
        },
        "id": "tu9twc0rrsim",
        "outputId": "c815c4a7-d808-4797-ce7c-e2c7e49a64cb"
      },
      "execution_count": 124,
      "outputs": [
        {
          "output_type": "stream",
          "name": "stdout",
          "text": [
            "-0.375\n",
            "0.23843720534489454\n",
            "0.0\n"
          ]
        }
      ]
    },
    {
      "cell_type": "markdown",
      "source": [
        "p.) Write a code for the Pearson’s first skewness and find the following values:"
      ],
      "metadata": {
        "id": "h2DWCQ2RsmBs"
      }
    },
    {
      "cell_type": "code",
      "source": [
        "def skews(a):\n",
        "  b = kurtosis(a, axis=0, fisher=False,  bias=True)\n",
        "  return b\n",
        "\n",
        "print(skews(X1))\n",
        "print(skews(Y1))\n",
        "print(skews(Z1))"
      ],
      "metadata": {
        "colab": {
          "base_uri": "https://localhost:8080/"
        },
        "id": "vX4mnehGsnQx",
        "outputId": "9fdfa23c-9f1a-4696-9b3b-f1281547156c"
      },
      "execution_count": 136,
      "outputs": [
        {
          "output_type": "stream",
          "name": "stdout",
          "text": [
            "1.9375\n",
            "1.3702385190459234\n",
            "1.64\n"
          ]
        }
      ]
    },
    {
      "cell_type": "markdown",
      "source": [
        "q.) Write a code for the Pearsons second skewness and find the following values"
      ],
      "metadata": {
        "id": "pL39kLUjuTlw"
      }
    },
    {
      "cell_type": "code",
      "source": [
        "def skews(a):\n",
        "  b = kurtosis(a, axis=0, fisher=True,  bias=True)\n",
        "  return b\n",
        "\n",
        "print(skews(X1))\n",
        "print(skews(Y1))\n",
        "print(skews(Z1))"
      ],
      "metadata": {
        "colab": {
          "base_uri": "https://localhost:8080/"
        },
        "id": "qPLcoO0GuU1H",
        "outputId": "a5baaac8-dc32-4a90-a895-37c0430329db"
      },
      "execution_count": 142,
      "outputs": [
        {
          "output_type": "stream",
          "name": "stdout",
          "text": [
            "-1.0625\n",
            "-1.6297614809540766\n",
            "-1.36\n"
          ]
        }
      ]
    },
    {
      "cell_type": "markdown",
      "source": [
        "r.) Write a code for the Groeneveld & Meedens coefficient and find the following values"
      ],
      "metadata": {
        "id": "ZBp-ISOQwzMQ"
      }
    },
    {
      "cell_type": "code",
      "source": [
        "def skews(a):\n",
        "  b = skew(a, axis=0,  bias=False)\n",
        "  return b\n",
        "\n",
        "print(skews(X1))\n",
        "print(skews(Y1))\n",
        "print(skews(Z1))"
      ],
      "metadata": {
        "colab": {
          "base_uri": "https://localhost:8080/"
        },
        "id": "tbpfVCZFw0dK",
        "outputId": "ca8a9f1c-e998-49d2-810f-08dab7c8126d"
      },
      "execution_count": 146,
      "outputs": [
        {
          "output_type": "stream",
          "name": "stdout",
          "text": [
            "-0.4677071733467426\n",
            "0.32649358978972526\n",
            "0.0\n"
          ]
        }
      ]
    },
    {
      "cell_type": "markdown",
      "source": [
        "s.) Write a code for the Pearsons moment coefficient and find the following values"
      ],
      "metadata": {
        "id": "2yQ7hRob3LJB"
      }
    },
    {
      "cell_type": "code",
      "source": [
        "def moment(a):\n",
        "  b = np.corrcoef(a)\n",
        "  return b\n",
        "\n",
        "print(moment(X1))\n",
        "print(moment(Y1))\n",
        "print(moment(Z1))"
      ],
      "metadata": {
        "colab": {
          "base_uri": "https://localhost:8080/"
        },
        "id": "C86Lexf73NUu",
        "outputId": "1f5f0b7c-2380-401c-d307-95f3b09a6c15"
      },
      "execution_count": 149,
      "outputs": [
        {
          "output_type": "stream",
          "name": "stdout",
          "text": [
            "1.0\n",
            "1.0\n",
            "1.0\n"
          ]
        }
      ]
    },
    {
      "cell_type": "markdown",
      "source": [
        "t.) Write a code for the Kurtosis (sharpness) and find the following values"
      ],
      "metadata": {
        "id": "_5QiXwFG4o7r"
      }
    },
    {
      "cell_type": "code",
      "source": [
        "def kurt(a):\n",
        "  b = kurtosis(a, axis=0,  bias=True)\n",
        "  return b\n",
        "\n",
        "print(kurt(X1))\n",
        "print(kurt(Y1))\n",
        "print(kurt(Z1))"
      ],
      "metadata": {
        "colab": {
          "base_uri": "https://localhost:8080/"
        },
        "id": "e104IMRs4uoX",
        "outputId": "abf33343-1bb5-4fd1-c773-5898412672a4"
      },
      "execution_count": 150,
      "outputs": [
        {
          "output_type": "stream",
          "name": "stdout",
          "text": [
            "-1.0625\n",
            "-1.6297614809540766\n",
            "-1.36\n"
          ]
        }
      ]
    },
    {
      "cell_type": "markdown",
      "source": [
        "u.) Write a code for the p degree standardized moment coefficient which takes p and center point as inputs: (X, p, μx). Find the following values"
      ],
      "metadata": {
        "id": "SdE_pv_O49jV"
      }
    },
    {
      "cell_type": "code",
      "source": [
        "def moments(a):\n",
        "  b = moment(a, moment=1)\n",
        "  return b\n",
        "\n",
        "print(moment(X1))\n",
        "print(moment(Y1))\n",
        "print(moment(Z1))"
      ],
      "metadata": {
        "colab": {
          "base_uri": "https://localhost:8080/"
        },
        "id": "voxTVvRu5DPY",
        "outputId": "eec4a227-42f8-4b84-cc07-6b1a2363d7ea"
      },
      "execution_count": 153,
      "outputs": [
        {
          "output_type": "stream",
          "name": "stdout",
          "text": [
            "0.0\n",
            "0.0\n",
            "0.0\n"
          ]
        }
      ]
    },
    {
      "cell_type": "markdown",
      "source": [
        "##Q2.2"
      ],
      "metadata": {
        "id": "QiIEcpZI5__D"
      }
    },
    {
      "cell_type": "code",
      "source": [
        "B = {103,104,105,106,107,108,109,110,111}\n",
        "Bf = {5,4,6,5,6,8,3,2,1}"
      ],
      "metadata": {
        "id": "Q8DS8sDP6BuJ"
      },
      "execution_count": 155,
      "outputs": []
    },
    {
      "cell_type": "markdown",
      "source": [
        "a.) Find the following central point values:"
      ],
      "metadata": {
        "id": "hr_BHRCh6Y26"
      }
    },
    {
      "cell_type": "code",
      "source": [
        "def pmean(a):\n",
        "  b = stats.mean(a)\n",
        "  c = stats.median(a)\n",
        "  d = stats.mode(a)\n",
        "  e = stats.geometric_mean(a)\n",
        "  f = stats.harmonic_mean(a)\n",
        "  g = (b+e+f)/3\n",
        "  return b, c, d, e, f, g\n",
        "\n",
        "print(pmean(B))\n",
        "print(pmean(Bf))"
      ],
      "metadata": {
        "colab": {
          "base_uri": "https://localhost:8080/"
        },
        "id": "K77wj7xR6YWS",
        "outputId": "84921a68-0759-4724-ce22-9b3ddb7e7e58"
      },
      "execution_count": 168,
      "outputs": [
        {
          "output_type": "stream",
          "name": "stdout",
          "text": [
            "(107, 107, 103, 106.96883582446759, 106.93766674467908, 106.96883418971555)\n",
            "(4.142857142857143, 4, 1, 3.4451109418253836, 2.7184466019417477, 3.4354715622080914)\n"
          ]
        }
      ]
    },
    {
      "cell_type": "markdown",
      "source": [
        "b.) Find the following variance values:"
      ],
      "metadata": {
        "id": "bCTfymBr83OM"
      }
    },
    {
      "cell_type": "code",
      "source": [
        "def variances(a):\n",
        "  b = stats.variance(a)\n",
        "  c = stats.median(a)\n",
        "  d = stats.mode(a)\n",
        "  n = len(a)\n",
        "  deviations = [(x -c) ** 2 for x in a]\n",
        "  vmed = sum(deviations) / n\n",
        "  deviationsmode = [(x -d) ** 2 for x in a]\n",
        "  vmode = sum(deviationsmode) / n\n",
        "  return b, vmed, vmode\n",
        "\n",
        "print(variances(B))\n",
        "print(variances(Bf))"
      ],
      "metadata": {
        "colab": {
          "base_uri": "https://localhost:8080/"
        },
        "id": "GWKgdVCH9Dg3",
        "outputId": "448a14a0-2a5f-435e-a677-506080c4f61c"
      },
      "execution_count": 173,
      "outputs": [
        {
          "output_type": "stream",
          "name": "stdout",
          "text": [
            "(7.5, 6.666666666666667, 22.666666666666668)\n",
            "(5.809523809523809, 5.0, 14.857142857142858)\n"
          ]
        }
      ]
    },
    {
      "cell_type": "markdown",
      "source": [
        "c.)  Find the following MAD values:"
      ],
      "metadata": {
        "id": "_J_jgEnc8-RY"
      }
    },
    {
      "cell_type": "code",
      "source": [
        "def MAD(a):\n",
        "  df = pd.DataFrame(a)\n",
        "  c = np.median(np.absolute(a - np.median(a)))\n",
        "  b = mode([abs(number-mode(a)) for number in a])\n",
        "  return c, b, df.mad()\n",
        "\n",
        "print(MAD(X1))\n",
        "print(MAD(Y1))\n",
        "print(MAD(Z1))"
      ],
      "metadata": {
        "colab": {
          "base_uri": "https://localhost:8080/"
        },
        "id": "CSpC2UV9ABTS",
        "outputId": "157581fa-0c8f-41c9-8d40-6b5b5640837b"
      },
      "execution_count": 183,
      "outputs": [
        {
          "output_type": "stream",
          "name": "stdout",
          "text": [
            "(0.5, 0, 0    0.875\n",
            "dtype: float64)\n",
            "(1.0, 0, 0    1.166667\n",
            "dtype: float64)\n",
            "(1.0, 1, 0    1.0\n",
            "dtype: float64)\n"
          ]
        }
      ]
    }
  ]
}