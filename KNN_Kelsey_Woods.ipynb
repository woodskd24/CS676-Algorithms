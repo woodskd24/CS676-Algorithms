{
  "nbformat": 4,
  "nbformat_minor": 0,
  "metadata": {
    "colab": {
      "provenance": [],
      "authorship_tag": "ABX9TyMpjkJI0o0L+1jA0xurpxCq",
      "include_colab_link": true
    },
    "kernelspec": {
      "name": "python3",
      "display_name": "Python 3"
    },
    "language_info": {
      "name": "python"
    }
  },
  "cells": [
    {
      "cell_type": "markdown",
      "metadata": {
        "id": "view-in-github",
        "colab_type": "text"
      },
      "source": [
        "<a href=\"https://colab.research.google.com/github/woodskd24/CS676-Algorithms/blob/main/KNN_Kelsey_Woods.ipynb\" target=\"_parent\"><img src=\"https://colab.research.google.com/assets/colab-badge.svg\" alt=\"Open In Colab\"/></a>"
      ]
    },
    {
      "cell_type": "markdown",
      "source": [
        "#Preparation"
      ],
      "metadata": {
        "id": "9GUkeuPGkv2L"
      }
    },
    {
      "cell_type": "code",
      "execution_count": null,
      "metadata": {
        "id": "ytAb0MdshoOY"
      },
      "outputs": [],
      "source": [
        "import pandas as pd\n",
        "from sklearn.neighbors import KNeighborsClassifier\n",
        "from sklearn.model_selection import train_test_split"
      ]
    },
    {
      "cell_type": "code",
      "source": [
        "iris = pd.read_csv(\"/content/iris.csv\")"
      ],
      "metadata": {
        "id": "2XTRMFC1hyAW"
      },
      "execution_count": null,
      "outputs": []
    },
    {
      "cell_type": "code",
      "source": [
        "iris.head(5)"
      ],
      "metadata": {
        "colab": {
          "base_uri": "https://localhost:8080/",
          "height": 206
        },
        "id": "0M3FimQ9h4Xx",
        "outputId": "dd1cc46f-4e38-4409-be56-8889d19cb2a8"
      },
      "execution_count": null,
      "outputs": [
        {
          "output_type": "execute_result",
          "data": {
            "text/plain": [
              "   sepallength  sepalwidth  petallength  petalwidth  class\n",
              "0          5.1         3.5          1.4         0.2      1\n",
              "1          4.9         3.0          1.4         0.2      1\n",
              "2          4.7         3.2          1.3         0.2      1\n",
              "3          4.6         3.1          1.5         0.2      1\n",
              "4          5.0         3.6          1.4         0.2      1"
            ],
            "text/html": [
              "\n",
              "  <div id=\"df-207751b9-bdcd-4466-8d85-8a8f470a5334\">\n",
              "    <div class=\"colab-df-container\">\n",
              "      <div>\n",
              "<style scoped>\n",
              "    .dataframe tbody tr th:only-of-type {\n",
              "        vertical-align: middle;\n",
              "    }\n",
              "\n",
              "    .dataframe tbody tr th {\n",
              "        vertical-align: top;\n",
              "    }\n",
              "\n",
              "    .dataframe thead th {\n",
              "        text-align: right;\n",
              "    }\n",
              "</style>\n",
              "<table border=\"1\" class=\"dataframe\">\n",
              "  <thead>\n",
              "    <tr style=\"text-align: right;\">\n",
              "      <th></th>\n",
              "      <th>sepallength</th>\n",
              "      <th>sepalwidth</th>\n",
              "      <th>petallength</th>\n",
              "      <th>petalwidth</th>\n",
              "      <th>class</th>\n",
              "    </tr>\n",
              "  </thead>\n",
              "  <tbody>\n",
              "    <tr>\n",
              "      <th>0</th>\n",
              "      <td>5.1</td>\n",
              "      <td>3.5</td>\n",
              "      <td>1.4</td>\n",
              "      <td>0.2</td>\n",
              "      <td>1</td>\n",
              "    </tr>\n",
              "    <tr>\n",
              "      <th>1</th>\n",
              "      <td>4.9</td>\n",
              "      <td>3.0</td>\n",
              "      <td>1.4</td>\n",
              "      <td>0.2</td>\n",
              "      <td>1</td>\n",
              "    </tr>\n",
              "    <tr>\n",
              "      <th>2</th>\n",
              "      <td>4.7</td>\n",
              "      <td>3.2</td>\n",
              "      <td>1.3</td>\n",
              "      <td>0.2</td>\n",
              "      <td>1</td>\n",
              "    </tr>\n",
              "    <tr>\n",
              "      <th>3</th>\n",
              "      <td>4.6</td>\n",
              "      <td>3.1</td>\n",
              "      <td>1.5</td>\n",
              "      <td>0.2</td>\n",
              "      <td>1</td>\n",
              "    </tr>\n",
              "    <tr>\n",
              "      <th>4</th>\n",
              "      <td>5.0</td>\n",
              "      <td>3.6</td>\n",
              "      <td>1.4</td>\n",
              "      <td>0.2</td>\n",
              "      <td>1</td>\n",
              "    </tr>\n",
              "  </tbody>\n",
              "</table>\n",
              "</div>\n",
              "      <button class=\"colab-df-convert\" onclick=\"convertToInteractive('df-207751b9-bdcd-4466-8d85-8a8f470a5334')\"\n",
              "              title=\"Convert this dataframe to an interactive table.\"\n",
              "              style=\"display:none;\">\n",
              "        \n",
              "  <svg xmlns=\"http://www.w3.org/2000/svg\" height=\"24px\"viewBox=\"0 0 24 24\"\n",
              "       width=\"24px\">\n",
              "    <path d=\"M0 0h24v24H0V0z\" fill=\"none\"/>\n",
              "    <path d=\"M18.56 5.44l.94 2.06.94-2.06 2.06-.94-2.06-.94-.94-2.06-.94 2.06-2.06.94zm-11 1L8.5 8.5l.94-2.06 2.06-.94-2.06-.94L8.5 2.5l-.94 2.06-2.06.94zm10 10l.94 2.06.94-2.06 2.06-.94-2.06-.94-.94-2.06-.94 2.06-2.06.94z\"/><path d=\"M17.41 7.96l-1.37-1.37c-.4-.4-.92-.59-1.43-.59-.52 0-1.04.2-1.43.59L10.3 9.45l-7.72 7.72c-.78.78-.78 2.05 0 2.83L4 21.41c.39.39.9.59 1.41.59.51 0 1.02-.2 1.41-.59l7.78-7.78 2.81-2.81c.8-.78.8-2.07 0-2.86zM5.41 20L4 18.59l7.72-7.72 1.47 1.35L5.41 20z\"/>\n",
              "  </svg>\n",
              "      </button>\n",
              "      \n",
              "  <style>\n",
              "    .colab-df-container {\n",
              "      display:flex;\n",
              "      flex-wrap:wrap;\n",
              "      gap: 12px;\n",
              "    }\n",
              "\n",
              "    .colab-df-convert {\n",
              "      background-color: #E8F0FE;\n",
              "      border: none;\n",
              "      border-radius: 50%;\n",
              "      cursor: pointer;\n",
              "      display: none;\n",
              "      fill: #1967D2;\n",
              "      height: 32px;\n",
              "      padding: 0 0 0 0;\n",
              "      width: 32px;\n",
              "    }\n",
              "\n",
              "    .colab-df-convert:hover {\n",
              "      background-color: #E2EBFA;\n",
              "      box-shadow: 0px 1px 2px rgba(60, 64, 67, 0.3), 0px 1px 3px 1px rgba(60, 64, 67, 0.15);\n",
              "      fill: #174EA6;\n",
              "    }\n",
              "\n",
              "    [theme=dark] .colab-df-convert {\n",
              "      background-color: #3B4455;\n",
              "      fill: #D2E3FC;\n",
              "    }\n",
              "\n",
              "    [theme=dark] .colab-df-convert:hover {\n",
              "      background-color: #434B5C;\n",
              "      box-shadow: 0px 1px 3px 1px rgba(0, 0, 0, 0.15);\n",
              "      filter: drop-shadow(0px 1px 2px rgba(0, 0, 0, 0.3));\n",
              "      fill: #FFFFFF;\n",
              "    }\n",
              "  </style>\n",
              "\n",
              "      <script>\n",
              "        const buttonEl =\n",
              "          document.querySelector('#df-207751b9-bdcd-4466-8d85-8a8f470a5334 button.colab-df-convert');\n",
              "        buttonEl.style.display =\n",
              "          google.colab.kernel.accessAllowed ? 'block' : 'none';\n",
              "\n",
              "        async function convertToInteractive(key) {\n",
              "          const element = document.querySelector('#df-207751b9-bdcd-4466-8d85-8a8f470a5334');\n",
              "          const dataTable =\n",
              "            await google.colab.kernel.invokeFunction('convertToInteractive',\n",
              "                                                     [key], {});\n",
              "          if (!dataTable) return;\n",
              "\n",
              "          const docLinkHtml = 'Like what you see? Visit the ' +\n",
              "            '<a target=\"_blank\" href=https://colab.research.google.com/notebooks/data_table.ipynb>data table notebook</a>'\n",
              "            + ' to learn more about interactive tables.';\n",
              "          element.innerHTML = '';\n",
              "          dataTable['output_type'] = 'display_data';\n",
              "          await google.colab.output.renderOutput(dataTable, element);\n",
              "          const docLink = document.createElement('div');\n",
              "          docLink.innerHTML = docLinkHtml;\n",
              "          element.appendChild(docLink);\n",
              "        }\n",
              "      </script>\n",
              "    </div>\n",
              "  </div>\n",
              "  "
            ]
          },
          "metadata": {},
          "execution_count": 42
        }
      ]
    },
    {
      "cell_type": "markdown",
      "source": [
        "A.)"
      ],
      "metadata": {
        "id": "rNo7mWkwk0ki"
      }
    },
    {
      "cell_type": "code",
      "source": [
        "X = iris.iloc[:, :-1]\n",
        "y = iris.iloc[:, -1]"
      ],
      "metadata": {
        "id": "UVtIJ_Zhifqd"
      },
      "execution_count": null,
      "outputs": []
    },
    {
      "cell_type": "code",
      "source": [
        "X_train, X_test, y_train, y_test = train_test_split(\n",
        "             X, y, test_size = 0.2, random_state=42)"
      ],
      "metadata": {
        "id": "yehGDPmGjrzm"
      },
      "execution_count": null,
      "outputs": []
    },
    {
      "cell_type": "code",
      "source": [
        "knn = KNeighborsClassifier(n_neighbors=7)"
      ],
      "metadata": {
        "id": "pkZhBuUwjwt0"
      },
      "execution_count": null,
      "outputs": []
    },
    {
      "cell_type": "code",
      "source": [
        "knn.fit(X_train, y_train)"
      ],
      "metadata": {
        "colab": {
          "base_uri": "https://localhost:8080/"
        },
        "id": "Vb6jiIEBjza1",
        "outputId": "87a36772-50e8-4c6e-f4e3-0934ef0307ae"
      },
      "execution_count": null,
      "outputs": [
        {
          "output_type": "execute_result",
          "data": {
            "text/plain": [
              "KNeighborsClassifier(n_neighbors=7)"
            ]
          },
          "metadata": {},
          "execution_count": 46
        }
      ]
    },
    {
      "cell_type": "code",
      "source": [
        "print(knn.score(X_test, y_test))"
      ],
      "metadata": {
        "colab": {
          "base_uri": "https://localhost:8080/"
        },
        "id": "QO6YO5bwj2ci",
        "outputId": "562f82db-e5d4-432f-9c3e-1a940b23d53d"
      },
      "execution_count": null,
      "outputs": [
        {
          "output_type": "stream",
          "name": "stdout",
          "text": [
            "0.9666666666666667\n"
          ]
        }
      ]
    },
    {
      "cell_type": "markdown",
      "source": [
        "B.)"
      ],
      "metadata": {
        "id": "eoU_1GBuk21W"
      }
    },
    {
      "cell_type": "code",
      "source": [
        "knn = KNeighborsClassifier(n_neighbors=3)"
      ],
      "metadata": {
        "id": "gY1bfMs0k8Zi"
      },
      "execution_count": null,
      "outputs": []
    },
    {
      "cell_type": "code",
      "source": [
        "knn.fit(X_train, y_train)"
      ],
      "metadata": {
        "colab": {
          "base_uri": "https://localhost:8080/"
        },
        "id": "OGaNHVPtk_Uu",
        "outputId": "61770334-8523-4066-e8bc-df2ab3dac0fb"
      },
      "execution_count": null,
      "outputs": [
        {
          "output_type": "execute_result",
          "data": {
            "text/plain": [
              "KNeighborsClassifier(n_neighbors=3)"
            ]
          },
          "metadata": {},
          "execution_count": 49
        }
      ]
    },
    {
      "cell_type": "code",
      "source": [
        "print(knn.score(X_test, y_test))"
      ],
      "metadata": {
        "colab": {
          "base_uri": "https://localhost:8080/"
        },
        "id": "VRISWKIslAes",
        "outputId": "939bc186-68a7-4866-cfba-3cd06beef62b"
      },
      "execution_count": null,
      "outputs": [
        {
          "output_type": "stream",
          "name": "stdout",
          "text": [
            "1.0\n"
          ]
        }
      ]
    },
    {
      "cell_type": "markdown",
      "source": [
        "C.)"
      ],
      "metadata": {
        "id": "--IQsAStlF_r"
      }
    },
    {
      "cell_type": "code",
      "source": [
        "knn = KNeighborsClassifier(n_neighbors=5)"
      ],
      "metadata": {
        "id": "MZMS1uZFlFqs"
      },
      "execution_count": null,
      "outputs": []
    },
    {
      "cell_type": "code",
      "source": [
        "knn.fit(X_train, y_train)"
      ],
      "metadata": {
        "colab": {
          "base_uri": "https://localhost:8080/"
        },
        "id": "hnvc5btJlKya",
        "outputId": "dfdf25d7-9753-4fe6-a0d2-d3ff87eab02c"
      },
      "execution_count": null,
      "outputs": [
        {
          "output_type": "execute_result",
          "data": {
            "text/plain": [
              "KNeighborsClassifier()"
            ]
          },
          "metadata": {},
          "execution_count": 52
        }
      ]
    },
    {
      "cell_type": "code",
      "source": [
        "print(knn.score(X_test, y_test))"
      ],
      "metadata": {
        "colab": {
          "base_uri": "https://localhost:8080/"
        },
        "id": "wBrxE0cglM59",
        "outputId": "36953c58-fba8-456b-f290-4ad1f4f3d54c"
      },
      "execution_count": null,
      "outputs": [
        {
          "output_type": "stream",
          "name": "stdout",
          "text": [
            "1.0\n"
          ]
        }
      ]
    },
    {
      "cell_type": "markdown",
      "source": [
        "D.)"
      ],
      "metadata": {
        "id": "hRsZH5oSlY7q"
      }
    },
    {
      "cell_type": "code",
      "source": [
        "knn = KNeighborsClassifier(n_neighbors=3, metric='manhattan')"
      ],
      "metadata": {
        "id": "buSF1238laq_"
      },
      "execution_count": null,
      "outputs": []
    },
    {
      "cell_type": "code",
      "source": [
        "knn.fit(X_train, y_train)"
      ],
      "metadata": {
        "colab": {
          "base_uri": "https://localhost:8080/"
        },
        "id": "fOKZjVxomUfi",
        "outputId": "60067b05-2499-4610-e3ce-e97991f69745"
      },
      "execution_count": null,
      "outputs": [
        {
          "output_type": "execute_result",
          "data": {
            "text/plain": [
              "KNeighborsClassifier(metric='manhattan', n_neighbors=3)"
            ]
          },
          "metadata": {},
          "execution_count": 55
        }
      ]
    },
    {
      "cell_type": "code",
      "source": [
        "print(knn.score(X_test, y_test))"
      ],
      "metadata": {
        "colab": {
          "base_uri": "https://localhost:8080/"
        },
        "id": "7fqOI2EzmWXN",
        "outputId": "05a94806-b95c-416e-fd2b-2b2d4aa3ad44"
      },
      "execution_count": null,
      "outputs": [
        {
          "output_type": "stream",
          "name": "stdout",
          "text": [
            "1.0\n"
          ]
        }
      ]
    },
    {
      "cell_type": "markdown",
      "source": [
        "E.)"
      ],
      "metadata": {
        "id": "lbXLIWISmiWT"
      }
    },
    {
      "cell_type": "code",
      "source": [
        "knn = KNeighborsClassifier(n_neighbors=5, p=1)"
      ],
      "metadata": {
        "id": "PdO-53a7mjUa"
      },
      "execution_count": 61,
      "outputs": []
    },
    {
      "cell_type": "code",
      "source": [
        "knn.fit(X_train, y_train)"
      ],
      "metadata": {
        "id": "259EHVxmnljT",
        "colab": {
          "base_uri": "https://localhost:8080/"
        },
        "outputId": "1f42573a-0b6f-49e1-9000-933cf5b72854"
      },
      "execution_count": 62,
      "outputs": [
        {
          "output_type": "execute_result",
          "data": {
            "text/plain": [
              "KNeighborsClassifier(p=1)"
            ]
          },
          "metadata": {},
          "execution_count": 62
        }
      ]
    },
    {
      "cell_type": "code",
      "source": [
        "print(knn.score(X_test, y_test))"
      ],
      "metadata": {
        "id": "Kbcp2f17nnIf",
        "colab": {
          "base_uri": "https://localhost:8080/"
        },
        "outputId": "b53ee3da-ad55-43f1-8676-6888af8cdc56"
      },
      "execution_count": 63,
      "outputs": [
        {
          "output_type": "stream",
          "name": "stdout",
          "text": [
            "1.0\n"
          ]
        }
      ]
    },
    {
      "cell_type": "markdown",
      "source": [
        "F.)"
      ],
      "metadata": {
        "id": "Mzvcl0qw9zgn"
      }
    },
    {
      "cell_type": "code",
      "source": [
        "knn = KNeighborsClassifier(n_neighbors=5, p=3)"
      ],
      "metadata": {
        "id": "Y0RFiMRE90gR"
      },
      "execution_count": 65,
      "outputs": []
    },
    {
      "cell_type": "code",
      "source": [
        "knn.fit(X_train, y_train)"
      ],
      "metadata": {
        "colab": {
          "base_uri": "https://localhost:8080/"
        },
        "id": "0oxz_BbT9-X3",
        "outputId": "8ab4e667-1b0f-4cf3-8fe9-0905486892fa"
      },
      "execution_count": 66,
      "outputs": [
        {
          "output_type": "execute_result",
          "data": {
            "text/plain": [
              "KNeighborsClassifier(p=3)"
            ]
          },
          "metadata": {},
          "execution_count": 66
        }
      ]
    },
    {
      "cell_type": "code",
      "source": [
        "print(knn.score(X_test, y_test))"
      ],
      "metadata": {
        "colab": {
          "base_uri": "https://localhost:8080/"
        },
        "id": "2jutdYFA-Abq",
        "outputId": "a53237ce-76b6-4472-9683-d2033e81c76c"
      },
      "execution_count": 67,
      "outputs": [
        {
          "output_type": "stream",
          "name": "stdout",
          "text": [
            "0.9666666666666667\n"
          ]
        }
      ]
    },
    {
      "cell_type": "markdown",
      "source": [
        "E.)"
      ],
      "metadata": {
        "id": "oVC5rtUa-ktC"
      }
    },
    {
      "cell_type": "code",
      "source": [
        "from sklearn import preprocessing"
      ],
      "metadata": {
        "id": "OIlhSEuI-zBN"
      },
      "execution_count": 70,
      "outputs": []
    },
    {
      "cell_type": "code",
      "source": [
        "preprocessing.normalize(iris)"
      ],
      "metadata": {
        "colab": {
          "base_uri": "https://localhost:8080/"
        },
        "id": "WLXIzJCM-l5e",
        "outputId": "be5dadfc-aced-459f-eb71-21edcebb6c28"
      },
      "execution_count": 71,
      "outputs": [
        {
          "output_type": "execute_result",
          "data": {
            "text/plain": [
              "array([[0.79397269, 0.54488322, 0.21795329, 0.03113618, 0.15568092],\n",
              "       [0.81655326, 0.49993057, 0.23330093, 0.0333287 , 0.16664352],\n",
              "       [0.79376492, 0.54043569, 0.219552  , 0.03377723, 0.16888615],\n",
              "       [0.78819833, 0.53117713, 0.25702119, 0.03426949, 0.17134746],\n",
              "       [0.78125   , 0.5625    , 0.21875   , 0.03125   , 0.15625   ],\n",
              "       [0.7760351 , 0.5604698 , 0.24430735, 0.05748408, 0.1437102 ],\n",
              "       [0.76912754, 0.56848557, 0.23408229, 0.05016049, 0.16720164],\n",
              "       [0.79205591, 0.53859802, 0.23761677, 0.03168224, 0.15841118],\n",
              "       [0.79321137, 0.5227984 , 0.25238543, 0.03605506, 0.18027531],\n",
              "       [0.80686453, 0.51046531, 0.24699935, 0.01646662, 0.16466623],\n",
              "       [0.79497773, 0.54470697, 0.22082715, 0.02944362, 0.1472181 ],\n",
              "       [0.77662176, 0.55010708, 0.25887392, 0.03235924, 0.1617962 ],\n",
              "       [0.8112322 , 0.50702013, 0.23660939, 0.01690067, 0.16900671],\n",
              "       [0.78889123, 0.55038923, 0.20180939, 0.01834631, 0.18346308],\n",
              "       [0.80338883, 0.55406126, 0.16621838, 0.02770306, 0.13851532],\n",
              "       [0.7667776 , 0.5918985 , 0.20178358, 0.05380895, 0.13452239],\n",
              "       [0.78583392, 0.56754672, 0.18918224, 0.05820992, 0.1455248 ],\n",
              "       [0.79349205, 0.54455337, 0.21782135, 0.046676  , 0.15558668],\n",
              "       [0.79886484, 0.53257656, 0.23825793, 0.04204552, 0.14015173],\n",
              "       [0.77069529, 0.57424355, 0.22667508, 0.04533502, 0.15111672],\n",
              "       [0.80813335, 0.5088247 , 0.25441235, 0.02993086, 0.14965432],\n",
              "       [0.77674983, 0.56352438, 0.22845583, 0.06092155, 0.15230389],\n",
              "       [0.76496862, 0.59867109, 0.16629753, 0.03325951, 0.16629753],\n",
              "       [0.79609794, 0.5151222 , 0.26536598, 0.07804882, 0.15609764],\n",
              "       [0.76616341, 0.54269908, 0.30327302, 0.03192348, 0.15961738],\n",
              "       [0.81541009, 0.48924605, 0.26093123, 0.0326164 , 0.16308202],\n",
              "       [0.78781686, 0.53571547, 0.2521014 , 0.06302535, 0.15756337],\n",
              "       [0.79689392, 0.53637091, 0.22987325, 0.03064977, 0.15324883],\n",
              "       [0.80622577, 0.52714762, 0.21706079, 0.03100868, 0.15504342],\n",
              "       [0.78409602, 0.53385261, 0.2669263 , 0.03336579, 0.16682894],\n",
              "       [0.79723661, 0.51488198, 0.26574554, 0.03321819, 0.16609096],\n",
              "       [0.81288067, 0.51181375, 0.22580019, 0.06021338, 0.15053346],\n",
              "       [0.75761191, 0.59734785, 0.2185419 , 0.01456946, 0.1456946 ],\n",
              "       [0.77098595, 0.58875291, 0.19625097, 0.02803585, 0.14017926],\n",
              "       [0.80686453, 0.51046531, 0.24699935, 0.01646662, 0.16466623],\n",
              "       [0.81411201, 0.52103169, 0.19538688, 0.03256448, 0.1628224 ],\n",
              "       [0.81780431, 0.52042093, 0.1932992 , 0.02973834, 0.14869169],\n",
              "       [0.80686453, 0.51046531, 0.24699935, 0.01646662, 0.16466623],\n",
              "       [0.78911866, 0.53803545, 0.2331487 , 0.03586903, 0.17934515],\n",
              "       [0.79784953, 0.53189969, 0.23466163, 0.03128822, 0.15644108],\n",
              "       [0.79027312, 0.55319118, 0.20547101, 0.04741639, 0.15805462],\n",
              "       [0.84560178, 0.43219647, 0.24428496, 0.05637345, 0.18791151],\n",
              "       [0.77383759, 0.56279098, 0.22863383, 0.03517444, 0.17587218],\n",
              "       [0.77925495, 0.54547847, 0.24936158, 0.09351059, 0.15585099],\n",
              "       [0.75841148, 0.56509091, 0.28254545, 0.05948325, 0.14870813],\n",
              "       [0.81030693, 0.50644183, 0.23633952, 0.05064418, 0.16881394],\n",
              "       [0.76841745, 0.57254634, 0.24107214, 0.03013402, 0.15067009],\n",
              "       [0.78429349, 0.54559547, 0.23869802, 0.03409972, 0.17049858],\n",
              "       [0.78946356, 0.55113494, 0.22343308, 0.02979108, 0.14895539],\n",
              "       [0.80177227, 0.5291697 , 0.22449624, 0.03207089, 0.16035445],\n",
              "       [0.74923109, 0.34250564, 0.50305516, 0.14984622, 0.21406603],\n",
              "       [0.72605491, 0.36302745, 0.51050736, 0.17016912, 0.22689216],\n",
              "       [0.73772534, 0.33144182, 0.52389191, 0.16037507, 0.21383343],\n",
              "       [0.72702746, 0.30402967, 0.52874725, 0.17184285, 0.26437362],\n",
              "       [0.73835038, 0.31805863, 0.52252489, 0.17038855, 0.22718473],\n",
              "       [0.70019075, 0.34395335, 0.55278217, 0.15969263, 0.24568097],\n",
              "       [0.70777582, 0.37073972, 0.52802323, 0.17975259, 0.22469074],\n",
              "       [0.72515046, 0.35517574, 0.48836664, 0.14798989, 0.29597978],\n",
              "       [0.74340542, 0.32664783, 0.51813105, 0.14642834, 0.22527437],\n",
              "       [0.6980023 , 0.36242427, 0.52350172, 0.1879237 , 0.26846242],\n",
              "       [0.73521462, 0.29408585, 0.51465024, 0.14704292, 0.29408585],\n",
              "       [0.7170636 , 0.36460861, 0.51045205, 0.18230431, 0.24307241],\n",
              "       [0.7629859 , 0.2797615 , 0.50865726, 0.12716432, 0.25432863],\n",
              "       [0.71069703, 0.33787236, 0.54758624, 0.16311079, 0.23301542],\n",
              "       [0.73266805, 0.37941738, 0.47100089, 0.17008365, 0.26166716],\n",
              "       [0.74992692, 0.34698111, 0.49248932, 0.15670115, 0.22385878],\n",
              "       [0.68486479, 0.36689185, 0.55033778, 0.18344593, 0.24459457],\n",
              "       [0.73224386, 0.34087214, 0.51762066, 0.12624894, 0.25249788],\n",
              "       [0.74220898, 0.26336448, 0.53870007, 0.17956669, 0.23942225],\n",
              "       [0.73512593, 0.32818122, 0.5119627 , 0.14439974, 0.26254497],\n",
              "       [0.67977944, 0.36869394, 0.5530409 , 0.20739034, 0.23043371],\n",
              "       [0.74668381, 0.34274011, 0.48962873, 0.15912934, 0.24481436],\n",
              "       [0.72171057, 0.28639308, 0.56133044, 0.17183585, 0.22911447],\n",
              "       [0.71601373, 0.32866204, 0.55168271, 0.14085516, 0.2347586 ],\n",
              "       [0.74625737, 0.33814787, 0.50139167, 0.15158353, 0.23320543],\n",
              "       [0.74787836, 0.33994471, 0.49858557, 0.15864086, 0.2266298 ],\n",
              "       [0.74603752, 0.30719192, 0.52661472, 0.15359596, 0.2194228 ],\n",
              "       [0.72340546, 0.32391289, 0.53985482, 0.18355064, 0.21594193],\n",
              "       [0.71252074, 0.34438502, 0.53439055, 0.17813018, 0.23750691],\n",
              "       [0.75831672, 0.34589885, 0.46563307, 0.13303802, 0.26607604],\n",
              "       [0.73720978, 0.32169154, 0.50934494, 0.14744196, 0.26807628],\n",
              "       [0.74365076, 0.32450215, 0.50027415, 0.13520923, 0.27041846],\n",
              "       [0.73910842, 0.34406771, 0.4969867 , 0.15291898, 0.25486497],\n",
              "       [0.68888199, 0.3099969 , 0.58554969, 0.18370186, 0.22962733],\n",
              "       [0.67154622, 0.37308123, 0.55962185, 0.18654062, 0.24872082],\n",
              "       [0.69574863, 0.39425756, 0.52181147, 0.18553297, 0.23191621],\n",
              "       [0.73613041, 0.34059765, 0.51638999, 0.16480532, 0.21974042],\n",
              "       [0.75283272, 0.27484369, 0.52578793, 0.15534643, 0.23899451],\n",
              "       [0.70631892, 0.37838513, 0.51712635, 0.16396689, 0.25225676],\n",
              "       [0.72100539, 0.32772972, 0.52436756, 0.17041946, 0.26218378],\n",
              "       [0.69957345, 0.33070745, 0.55965876, 0.15263421, 0.25439034],\n",
              "       [0.71234272, 0.35033249, 0.53717648, 0.16348849, 0.23355499],\n",
              "       [0.73755303, 0.33062722, 0.50865726, 0.15259718, 0.25432863],\n",
              "       [0.73577163, 0.33845495, 0.48560928, 0.14715433, 0.29430865],\n",
              "       [0.71131545, 0.34295566, 0.53348659, 0.1651268 , 0.25404123],\n",
              "       [0.70934819, 0.37334115, 0.52267761, 0.14933646, 0.2488941 ],\n",
              "       [0.71122317, 0.36185038, 0.52405918, 0.16220879, 0.24955199],\n",
              "       [0.73564923, 0.34409399, 0.51020833, 0.15424903, 0.2373062 ],\n",
              "       [0.74814166, 0.36673611, 0.44008333, 0.16136389, 0.29338889],\n",
              "       [0.71910337, 0.35324376, 0.51724979, 0.16400603, 0.25231697],\n",
              "       [0.62431343, 0.32702132, 0.59458422, 0.24774342, 0.29729211],\n",
              "       [0.65029124, 0.30272178, 0.57180781, 0.21302644, 0.33635754],\n",
              "       [0.68437113, 0.2891709 , 0.56870277, 0.20241963, 0.2891709 ],\n",
              "       [0.65789393, 0.30284006, 0.58479461, 0.1879697 , 0.31328283],\n",
              "       [0.65416724, 0.30192334, 0.58371846, 0.22141045, 0.30192334],\n",
              "       [0.68324441, 0.26970174, 0.59334383, 0.18879122, 0.26970174],\n",
              "       [0.62030286, 0.31648105, 0.56966589, 0.21520712, 0.37977726],\n",
              "       [0.68481988, 0.27205173, 0.59100893, 0.1688597 , 0.28143283],\n",
              "       [0.68021181, 0.25381038, 0.58884007, 0.18274347, 0.30457245],\n",
              "       [0.66490187, 0.33245093, 0.56331964, 0.2308687 , 0.27704244],\n",
              "       [0.67952089, 0.33453336, 0.53316254, 0.20908335, 0.31362502],\n",
              "       [0.67858928, 0.28627985, 0.56195675, 0.20145619, 0.31808873],\n",
              "       [0.68377114, 0.30166374, 0.55305019, 0.21116462, 0.30166374],\n",
              "       [0.65067476, 0.28538367, 0.57076733, 0.22830693, 0.3424604 ],\n",
              "       [0.6395287 , 0.30873799, 0.5623442 , 0.26463257, 0.33079071],\n",
              "       [0.66158927, 0.33079464, 0.54787861, 0.23775864, 0.31011997],\n",
              "       [0.67135292, 0.30985519, 0.56806786, 0.18591312, 0.30985519],\n",
              "       [0.66903425, 0.33017275, 0.58214668, 0.19115264, 0.26066269],\n",
              "       [0.68072324, 0.2298546 , 0.60999875, 0.20333292, 0.26521685],\n",
              "       [0.68336421, 0.25056688, 0.56947017, 0.17084105, 0.3416821 ],\n",
              "       [0.67456061, 0.3128397 , 0.55724572, 0.22485354, 0.29328722],\n",
              "       [0.64147841, 0.32073921, 0.56129361, 0.22909943, 0.34364915],\n",
              "       [0.68865385, 0.25041958, 0.59921828, 0.17887113, 0.26830669],\n",
              "       [0.6905587 , 0.29595373, 0.53710121, 0.19730249, 0.32883748],\n",
              "       [0.66444193, 0.32726245, 0.5652715 , 0.20825792, 0.29751131],\n",
              "       [0.6854967 , 0.3046652 , 0.57124725, 0.17137418, 0.28562363],\n",
              "       [0.68651982, 0.31004121, 0.53149922, 0.19931221, 0.33218701],\n",
              "       [0.67175077, 0.33036923, 0.53960307, 0.19822154, 0.33036923],\n",
              "       [0.66162462, 0.28946077, 0.57892154, 0.21709558, 0.31013654],\n",
              "       [0.69919391, 0.2913308 , 0.56323954, 0.15537642, 0.2913308 ],\n",
              "       [0.69792689, 0.26408044, 0.57531811, 0.17919744, 0.28294333],\n",
              "       [0.6907273 , 0.33224857, 0.55957654, 0.17486767, 0.2623015 ],\n",
              "       [0.6601096 , 0.28879795, 0.5775959 , 0.22691267, 0.30942637],\n",
              "       [0.68417662, 0.3040785 , 0.55385727, 0.1628992 , 0.32579839],\n",
              "       [0.65667367, 0.27989369, 0.60284796, 0.15071199, 0.32295426],\n",
              "       [0.70352647, 0.27410122, 0.55733915, 0.21014427, 0.27410122],\n",
              "       [0.63845158, 0.34456117, 0.56751251, 0.24321965, 0.30402456],\n",
              "       [0.66343511, 0.32135138, 0.57013955, 0.18659112, 0.31098521],\n",
              "       [0.66964953, 0.33482477, 0.53571962, 0.20089486, 0.33482477],\n",
              "       [0.69072564, 0.31032601, 0.54056789, 0.21022085, 0.3003155 ],\n",
              "       [0.66793261, 0.30904345, 0.55827203, 0.23925944, 0.2990743 ],\n",
              "       [0.6987185 , 0.31391701, 0.51644411, 0.23290617, 0.30379065],\n",
              "       [0.65029124, 0.30272178, 0.57180781, 0.21302644, 0.33635754],\n",
              "       [0.66178677, 0.31142907, 0.57419735, 0.22383964, 0.29196475],\n",
              "       [0.65851045, 0.32434097, 0.56022531, 0.24571285, 0.29485543],\n",
              "       [0.68661093, 0.30743773, 0.53289207, 0.23570226, 0.30743773],\n",
              "       [0.689235  , 0.27350595, 0.5470119 , 0.20786452, 0.32820714],\n",
              "       [0.68030201, 0.31398554, 0.54424161, 0.20932369, 0.31398554],\n",
              "       [0.64136025, 0.35171368, 0.55860408, 0.23792396, 0.3103356 ],\n",
              "       [0.65130776, 0.33117344, 0.56299485, 0.19870406, 0.33117344]])"
            ]
          },
          "metadata": {},
          "execution_count": 71
        }
      ]
    },
    {
      "cell_type": "markdown",
      "source": [
        "I.)"
      ],
      "metadata": {
        "id": "MhL87bjzAMq6"
      }
    },
    {
      "cell_type": "code",
      "source": [
        "from sklearn.metrics import accuracy_score\n",
        "from sklearn.metrics import classification_report\n",
        "from sklearn.metrics import confusion_matrix"
      ],
      "metadata": {
        "id": "NoEUiJkH_P0l"
      },
      "execution_count": 72,
      "outputs": []
    },
    {
      "cell_type": "code",
      "source": [
        "knn = KNeighborsClassifier(n_neighbors=5, p=3)\n",
        "knn.fit(X_train, y_train)\n",
        "y_pred = knn.predict(X_train)"
      ],
      "metadata": {
        "id": "v4_9Wch7_h5c"
      },
      "execution_count": 76,
      "outputs": []
    },
    {
      "cell_type": "markdown",
      "source": [
        "J.)"
      ],
      "metadata": {
        "id": "DBpoqJb6AQoV"
      }
    },
    {
      "cell_type": "code",
      "source": [
        "print(accuracy_score(y_train, y_pred))\n",
        "print(classification_report(y_train, y_pred))\n",
        "print(confusion_matrix(y_train, y_pred))"
      ],
      "metadata": {
        "colab": {
          "base_uri": "https://localhost:8080/"
        },
        "id": "qyfzUmOD_U6F",
        "outputId": "e4a14190-7434-4ea2-bf9d-0fe3abbb0594"
      },
      "execution_count": 77,
      "outputs": [
        {
          "output_type": "stream",
          "name": "stdout",
          "text": [
            "0.975\n",
            "              precision    recall  f1-score   support\n",
            "\n",
            "           1       1.00      1.00      1.00        40\n",
            "           2       0.97      0.95      0.96        41\n",
            "           3       0.95      0.97      0.96        39\n",
            "\n",
            "    accuracy                           0.97       120\n",
            "   macro avg       0.97      0.98      0.97       120\n",
            "weighted avg       0.98      0.97      0.98       120\n",
            "\n",
            "[[40  0  0]\n",
            " [ 0 39  2]\n",
            " [ 0  1 38]]\n"
          ]
        }
      ]
    },
    {
      "cell_type": "markdown",
      "source": [
        "K.)"
      ],
      "metadata": {
        "id": "Z9sNaYgOAekb"
      }
    },
    {
      "cell_type": "code",
      "source": [
        "knn = KNeighborsClassifier(n_neighbors=5, p=3.1)\n",
        "knn.fit(X_train, y_train)\n",
        "y_pred = knn.predict(X_train)"
      ],
      "metadata": {
        "id": "G9ho6O7LAgJB"
      },
      "execution_count": 78,
      "outputs": []
    },
    {
      "cell_type": "code",
      "source": [
        "print(accuracy_score(y_train, y_pred))\n",
        "print(classification_report(y_train, y_pred))\n",
        "print(confusion_matrix(y_train, y_pred))"
      ],
      "metadata": {
        "colab": {
          "base_uri": "https://localhost:8080/"
        },
        "id": "HUWHUa2TAkDI",
        "outputId": "32ae999b-850e-432a-f90f-e6aff865e83d"
      },
      "execution_count": 79,
      "outputs": [
        {
          "output_type": "stream",
          "name": "stdout",
          "text": [
            "0.975\n",
            "              precision    recall  f1-score   support\n",
            "\n",
            "           1       1.00      1.00      1.00        40\n",
            "           2       0.97      0.95      0.96        41\n",
            "           3       0.95      0.97      0.96        39\n",
            "\n",
            "    accuracy                           0.97       120\n",
            "   macro avg       0.97      0.98      0.97       120\n",
            "weighted avg       0.98      0.97      0.98       120\n",
            "\n",
            "[[40  0  0]\n",
            " [ 0 39  2]\n",
            " [ 0  1 38]]\n"
          ]
        }
      ]
    },
    {
      "cell_type": "markdown",
      "source": [
        "L.)"
      ],
      "metadata": {
        "id": "1TVvYk1vAs03"
      }
    },
    {
      "cell_type": "code",
      "source": [
        "knn = KNeighborsClassifier(n_neighbors=3)\n",
        "knn.fit(X_train, y_train)\n",
        "y_pred = knn.predict(X_train)"
      ],
      "metadata": {
        "id": "q_xmQ5a2Asis"
      },
      "execution_count": 80,
      "outputs": []
    },
    {
      "cell_type": "code",
      "source": [
        "print(accuracy_score(y_train, y_pred))\n",
        "print(classification_report(y_train, y_pred))\n",
        "print(confusion_matrix(y_train, y_pred))"
      ],
      "metadata": {
        "colab": {
          "base_uri": "https://localhost:8080/"
        },
        "id": "Am-3t-F4A0gy",
        "outputId": "e8b9bde8-ea59-4b2b-f322-ad5931c5e37f"
      },
      "execution_count": 81,
      "outputs": [
        {
          "output_type": "stream",
          "name": "stdout",
          "text": [
            "0.95\n",
            "              precision    recall  f1-score   support\n",
            "\n",
            "           1       1.00      1.00      1.00        40\n",
            "           2       0.93      0.93      0.93        41\n",
            "           3       0.92      0.92      0.92        39\n",
            "\n",
            "    accuracy                           0.95       120\n",
            "   macro avg       0.95      0.95      0.95       120\n",
            "weighted avg       0.95      0.95      0.95       120\n",
            "\n",
            "[[40  0  0]\n",
            " [ 0 38  3]\n",
            " [ 0  3 36]]\n"
          ]
        }
      ]
    },
    {
      "cell_type": "markdown",
      "source": [
        "M.)"
      ],
      "metadata": {
        "id": "uIz_k7GYA3w0"
      }
    },
    {
      "cell_type": "code",
      "source": [
        "knn = KNeighborsClassifier(n_neighbors=5)\n",
        "knn.fit(X_train, y_train)\n",
        "y_pred = knn.predict(X_train)"
      ],
      "metadata": {
        "id": "WE8mMkC7BALD"
      },
      "execution_count": 82,
      "outputs": []
    },
    {
      "cell_type": "code",
      "source": [
        "print(accuracy_score(y_train, y_pred))\n",
        "print(classification_report(y_train, y_pred))\n",
        "print(confusion_matrix(y_train, y_pred))"
      ],
      "metadata": {
        "colab": {
          "base_uri": "https://localhost:8080/"
        },
        "id": "0pxsARbzBDAY",
        "outputId": "c7bd06de-5983-4114-cc19-08c8e4b6f0fd"
      },
      "execution_count": 83,
      "outputs": [
        {
          "output_type": "stream",
          "name": "stdout",
          "text": [
            "0.9666666666666667\n",
            "              precision    recall  f1-score   support\n",
            "\n",
            "           1       1.00      1.00      1.00        40\n",
            "           2       0.97      0.93      0.95        41\n",
            "           3       0.93      0.97      0.95        39\n",
            "\n",
            "    accuracy                           0.97       120\n",
            "   macro avg       0.97      0.97      0.97       120\n",
            "weighted avg       0.97      0.97      0.97       120\n",
            "\n",
            "[[40  0  0]\n",
            " [ 0 38  3]\n",
            " [ 0  1 38]]\n"
          ]
        }
      ]
    },
    {
      "cell_type": "markdown",
      "source": [
        "N.)"
      ],
      "metadata": {
        "id": "8jqNxJM2BHHd"
      }
    },
    {
      "cell_type": "code",
      "source": [
        "knn = KNeighborsClassifier(n_neighbors=5, p=1)\n",
        "knn.fit(X_train, y_train)\n",
        "y_pred = knn.predict(X_train)"
      ],
      "metadata": {
        "id": "GuFeAuwpBIFa"
      },
      "execution_count": 84,
      "outputs": []
    },
    {
      "cell_type": "code",
      "source": [
        "print(accuracy_score(y_train, y_pred))\n",
        "print(classification_report(y_train, y_pred))\n",
        "print(confusion_matrix(y_train, y_pred))"
      ],
      "metadata": {
        "colab": {
          "base_uri": "https://localhost:8080/"
        },
        "id": "7MRnZDcZBSSs",
        "outputId": "5fa2797c-2c43-486c-bbb0-fb23cfad153f"
      },
      "execution_count": 85,
      "outputs": [
        {
          "output_type": "stream",
          "name": "stdout",
          "text": [
            "0.9666666666666667\n",
            "              precision    recall  f1-score   support\n",
            "\n",
            "           1       1.00      1.00      1.00        40\n",
            "           2       0.97      0.93      0.95        41\n",
            "           3       0.93      0.97      0.95        39\n",
            "\n",
            "    accuracy                           0.97       120\n",
            "   macro avg       0.97      0.97      0.97       120\n",
            "weighted avg       0.97      0.97      0.97       120\n",
            "\n",
            "[[40  0  0]\n",
            " [ 0 38  3]\n",
            " [ 0  1 38]]\n"
          ]
        }
      ]
    },
    {
      "cell_type": "markdown",
      "source": [
        "O.)"
      ],
      "metadata": {
        "id": "RHyU0GBnBXGI"
      }
    },
    {
      "cell_type": "code",
      "source": [
        "knn = KNeighborsClassifier(n_neighbors=5, p=2)\n",
        "knn.fit(X_train, y_train)\n",
        "y_pred = knn.predict(X_train)"
      ],
      "metadata": {
        "id": "W9lXq1lTBYLS"
      },
      "execution_count": 86,
      "outputs": []
    },
    {
      "cell_type": "code",
      "source": [
        "print(accuracy_score(y_train, y_pred))\n",
        "print(classification_report(y_train, y_pred))\n",
        "print(confusion_matrix(y_train, y_pred))"
      ],
      "metadata": {
        "colab": {
          "base_uri": "https://localhost:8080/"
        },
        "id": "Ksbh1W-6BfRH",
        "outputId": "195a6803-aca7-4be0-f13c-65081ee50a73"
      },
      "execution_count": 87,
      "outputs": [
        {
          "output_type": "stream",
          "name": "stdout",
          "text": [
            "0.9666666666666667\n",
            "              precision    recall  f1-score   support\n",
            "\n",
            "           1       1.00      1.00      1.00        40\n",
            "           2       0.97      0.93      0.95        41\n",
            "           3       0.93      0.97      0.95        39\n",
            "\n",
            "    accuracy                           0.97       120\n",
            "   macro avg       0.97      0.97      0.97       120\n",
            "weighted avg       0.97      0.97      0.97       120\n",
            "\n",
            "[[40  0  0]\n",
            " [ 0 38  3]\n",
            " [ 0  1 38]]\n"
          ]
        }
      ]
    }
  ]
}